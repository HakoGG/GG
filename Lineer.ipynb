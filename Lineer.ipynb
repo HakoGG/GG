{
 "cells": [
  {
   "cell_type": "markdown",
   "id": "ea8363c2",
   "metadata": {},
   "source": [
    "# LİNEER SEARCH ALGORİTHMN"
   ]
  },
  {
   "cell_type": "code",
   "execution_count": 1,
   "id": "d0054c05",
   "metadata": {},
   "outputs": [],
   "source": [
    "#PURPOSE: SEARCH THE LİST AND FİND THE TARGET. İF YOU FİND EVEN THE TARGET, YOU MUST BE DONE SAERCHİNG İN ARR"
   ]
  },
  {
   "cell_type": "code",
   "execution_count": 20,
   "id": "8a2d61e0",
   "metadata": {},
   "outputs": [],
   "source": [
    "def lineer(arr,target):\n",
    "    n = len(arr)\n",
    "    arr = list(arr)\n",
    "    for i in range(0,n):\n",
    "        if arr[n-1] not in arr:\n",
    "            return -1\n",
    "        elif arr[i] == target:\n",
    "            return i\n",
    "        else:\n",
    "            raise IndexError(\"hatalı index geçerli target gir\")"
   ]
  },
  {
   "cell_type": "code",
   "execution_count": 22,
   "id": "67b1683b",
   "metadata": {},
   "outputs": [
    {
     "data": {
      "text/plain": [
       "0"
      ]
     },
     "execution_count": 22,
     "metadata": {},
     "output_type": "execute_result"
    }
   ],
   "source": [
    "lineer([1,2,3,4],1)"
   ]
  },
  {
   "cell_type": "code",
   "execution_count": 5,
   "id": "c70c4170",
   "metadata": {},
   "outputs": [],
   "source": [
    "# daha gelişmiş versiyonlarında ara bellek oluştur ve fonskiyonu çalıştırmadan değeri ekrana yazdır"
   ]
  },
  {
   "cell_type": "code",
   "execution_count": 6,
   "id": "817cc6c4",
   "metadata": {},
   "outputs": [],
   "source": [
    "#exact value , find a knowledge from memory, basic searching char"
   ]
  },
  {
   "cell_type": "code",
   "execution_count": null,
   "id": "5361f8d7",
   "metadata": {},
   "outputs": [],
   "source": []
  }
 ],
 "metadata": {
  "kernelspec": {
   "display_name": "Python 3 (ipykernel)",
   "language": "python",
   "name": "python3"
  },
  "language_info": {
   "codemirror_mode": {
    "name": "ipython",
    "version": 3
   },
   "file_extension": ".py",
   "mimetype": "text/x-python",
   "name": "python",
   "nbconvert_exporter": "python",
   "pygments_lexer": "ipython3",
   "version": "3.9.13"
  }
 },
 "nbformat": 4,
 "nbformat_minor": 5
}
